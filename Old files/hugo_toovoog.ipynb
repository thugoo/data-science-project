{
 "cells": [
  {
   "cell_type": "markdown",
   "id": "11a156e2",
   "metadata": {},
   "source": [
    "## Impordid"
   ]
  },
  {
   "cell_type": "code",
   "execution_count": 21,
   "id": "419a5352",
   "metadata": {},
   "outputs": [],
   "source": [
    "import pandas as pd\n",
    "import numpy as np\n",
    "\n",
    "from sklearn.ensemble import GradientBoostingClassifier\n",
    "from sklearn.ensemble import RandomForestClassifier\n",
    "from sklearn.model_selection import GridSearchCV\n",
    "\n",
    "from sklearn.metrics import roc_auc_score\n",
    "\n",
    "from sklearn.model_selection import train_test_split\n",
    "\n",
    "from sklearn.decomposition import PCA"
   ]
  },
  {
   "cell_type": "markdown",
   "id": "fcebf6a5",
   "metadata": {},
   "source": [
    "## Andmete töötlemine"
   ]
  },
  {
   "cell_type": "code",
   "execution_count": 22,
   "id": "7bada197",
   "metadata": {},
   "outputs": [],
   "source": [
    "def load_data(file):\n",
    "    \n",
    "    # Data\n",
    "    data = pd.read_csv(file)\n",
    "    pd.set_option('display.max_rows', 20)\n",
    "    surnud= data[data[\"DEFINITION_ID\"] == \"death\"]\n",
    "    subject_ids = surnud[\"SUBJECT_ID\"]\n",
    "    \n",
    "    # FIltreerib surnute id põhjal\n",
    "    surnud = data[data[\"SUBJECT_ID\"].isin(subject_ids)]\n",
    "    surnud[\"TIME\"] = 1 # Muudame aja väärtuse 1-ks, ehk esialgsetes andmetes \"DEFINITION_ID\" = TIME, nüüd selle asemel \n",
    "    # lihtsalt 1.\n",
    "    elus = data[data[\"DEFINITION_ID\"] != \"death\"]\n",
    "    elus[\"TIME\"] = 1\n",
    "\n",
    "    # Sama toimub ka siin, aga elus patsientidega\n",
    "    elus_filtered = elus[~elus[\"SUBJECT_ID\"].isin(surnud[\"SUBJECT_ID\"])]\n",
    "\n",
    "    # Filtreeritud andmete kombineerimine üheks tabeliks\n",
    "    combined_data = pd.concat([surnud, elus_filtered])\n",
    "    combined_data.sort_values(by='SUBJECT_ID', inplace=True)\n",
    "    combined_data.reset_index(drop=True, inplace=True)\n",
    "    \n",
    "    #Viimane tabel-  kus read on patsiendid, veerud protseduurid vastavalt\n",
    "    # 1- protseduur tehti, 0 - patsient pole protseduuri saanud. samuti ka veerg \"death\": 1-surnud, 0 -\"elus\"\n",
    "    \n",
    "    pivot_combined_data = combined_data.pivot_table(index='SUBJECT_ID', columns='DEFINITION_ID', values='TIME', aggfunc='sum', fill_value=0)\n",
    "    return pivot_combined_data"
   ]
  },
  {
   "cell_type": "markdown",
   "id": "7424e423",
   "metadata": {},
   "source": [
    "## Tunnuste töötlemine (PCA)"
   ]
  },
  {
   "cell_type": "code",
   "execution_count": 23,
   "id": "9f36e3c2",
   "metadata": {},
   "outputs": [],
   "source": [
    "def identify_important_features(X, save_loadings=False):\n",
    "    n_components=20\n",
    "    \n",
    "    pca = PCA(n_components=n_components)\n",
    "    X_pca = pca.fit_transform(X)\n",
    "    \n",
    "    # DataFrame with the principal components\n",
    "    pc_columns = [f'PC_{i+1}' for i in range(n_components)]\n",
    "    \n",
    "    # Variance ratios\n",
    "    explained_variance_ratio = pca.explained_variance_ratio_ \n",
    "    \n",
    "    all_pca_loadings = [loadings for loadings in pca.components_]\n",
    "    \n",
    "    if save_loadings:\n",
    "        with pd.ExcelWriter('output.xlsx') as writer:\n",
    "            for index, loadings in enumerate(all_pca_loadings):\n",
    "                loadings_df = pd.DataFrame({'Feature': X.columns, f'Loading_PC{index+1}': loadings})\n",
    "                loadings_df[f'Absolute_Loading_PC{index+1}'] = loadings_df[f'Loading_PC{index+1}'].abs()\n",
    "                loadings_df = loadings_df.sort_values(by=f'Absolute_Loading_PC{index+1}', ascending=False)\n",
    "                loadings_df.to_excel(writer, sheet_name=f'PC{index+1} - {explained_variance_ratio[index]}')\n",
    "    \n",
    "    loadings_pc = pca.components_[0]\n",
    "    \n",
    "    # saaks kätte kõige olulisemad feature nimed\n",
    "    loading_df = pd.DataFrame({'Feature': X.columns, 'Loading_PC1': loadings_pc})\n",
    "    \n",
    "    # Sorteeritud\n",
    "    loading_df['Absolute_Loading_PC1'] = loading_df['Loading_PC1'].abs()\n",
    "    loading_df = loading_df.sort_values(by='Absolute_Loading_PC1', ascending=False)\n",
    "    \n",
    "    return pd.DataFrame(X_pca, columns=pc_columns), explained_variance_ratio, pca, loading_df"
   ]
  },
  {
   "cell_type": "markdown",
   "id": "5a5826cf",
   "metadata": {},
   "source": [
    "## Mudeli hindamine"
   ]
  },
  {
   "cell_type": "code",
   "execution_count": 24,
   "id": "320834e3",
   "metadata": {},
   "outputs": [],
   "source": [
    "def evaluate_model(model, X, y):\n",
    "    # Mudeli hindamine \n",
    "    y_probabilities = model.predict_proba(X)[:, 1]    \n",
    "    auc_roc = roc_auc_score(y, y_probabilities)\n",
    "    \n",
    "    return auc_roc"
   ]
  },
  {
   "cell_type": "markdown",
   "id": "18ecf5fe",
   "metadata": {},
   "source": [
    "## RandomForestClassifieri treenimine"
   ]
  },
  {
   "cell_type": "code",
   "execution_count": 25,
   "id": "b1416a4b",
   "metadata": {},
   "outputs": [],
   "source": [
    "def train_rf_model(X, y, grid_search=False):\n",
    "    if not grid_search:\n",
    "        rf_model = RandomForestClassifier()\n",
    "        rf_model.fit(X, y)\n",
    "        return rf_model\n",
    "    else:\n",
    "        param_grid = {\n",
    "            'n_estimators': [100, 200, 300, 400, 500],\n",
    "            'max_depth': [None, 10, 20, 30, 40, 50],\n",
    "            'min_samples_split': [2, 5, 10],\n",
    "            'min_samples_leaf': [1, 2, 4],\n",
    "            'bootstrap': [True, False],\n",
    "            'max_features': ['auto', 'sqrt', 'log2']\n",
    "        }\n",
    "\n",
    "        rf_model = RandomForestClassifier()\n",
    "\n",
    "        grid_search = GridSearchCV(estimator=rf_model, param_grid=param_grid, cv=5, n_jobs=-1, verbose=1,  scoring='roc_auc')\n",
    "        grid_search.fit(X, y)\n",
    "\n",
    "        print(grid_search.best_params_)\n",
    "        best_model = grid_search.best_estimator_\n",
    "        return best_model"
   ]
  },
  {
   "cell_type": "markdown",
   "id": "05622488",
   "metadata": {},
   "source": [
    "## GradientBoostingClassifieri treenimine"
   ]
  },
  {
   "cell_type": "code",
   "execution_count": 26,
   "id": "c4ac23d7",
   "metadata": {},
   "outputs": [],
   "source": [
    "def train_gradient_model(X, y, grid_search=False):\n",
    "    if not grid_search:\n",
    "        gbc_model = GradientBoostingClassifier()\n",
    "        gbc_model.fit(X, y)\n",
    "        return gbc_model\n",
    "    else:\n",
    "        param_grid = {\n",
    "            'n_estimators': [100, 200, 300],\n",
    "            'learning_rate': [0.01, 0.1, 0.2],\n",
    "            'max_depth': [3, 5, 7],\n",
    "            'min_samples_split': [2, 10, 20],\n",
    "            'min_samples_leaf': [1, 5, 15],\n",
    "            'subsample': [0.6, 0.8, 1.0],\n",
    "            'max_features': ['auto', None]\n",
    "        }\n",
    "        \n",
    "        gbc_model = GradientBoostingClassifier()\n",
    "\n",
    "        grid_search = GridSearchCV(estimator=gbc_model, param_grid=param_grid, cv=5, n_jobs=-1, verbose=1, scoring='roc_auc')\n",
    "\n",
    "        grid_search.fit(X, y)\n",
    "\n",
    "        print(grid_search.best_params_)\n",
    "        best_model = grid_search.best_estimator_\n",
    "        return best_model"
   ]
  },
  {
   "cell_type": "markdown",
   "id": "9b8dfa49",
   "metadata": {},
   "source": [
    "## Töövoo jooksutamine"
   ]
  },
  {
   "cell_type": "code",
   "execution_count": 27,
   "id": "89117096",
   "metadata": {},
   "outputs": [
    {
     "name": "stderr",
     "output_type": "stream",
     "text": [
      "/tmp/ipykernel_41762/2053188126.py:11: SettingWithCopyWarning: \n",
      "A value is trying to be set on a copy of a slice from a DataFrame.\n",
      "Try using .loc[row_indexer,col_indexer] = value instead\n",
      "\n",
      "See the caveats in the documentation: https://pandas.pydata.org/pandas-docs/stable/user_guide/indexing.html#returning-a-view-versus-a-copy\n",
      "  surnud[\"TIME\"] = 1 # Muudame aja väärtuse 1-ks, ehk esialgsetes andmetes \"DEFINITION_ID\" = TIME, nüüd selle asemel\n",
      "/tmp/ipykernel_41762/2053188126.py:14: SettingWithCopyWarning: \n",
      "A value is trying to be set on a copy of a slice from a DataFrame.\n",
      "Try using .loc[row_indexer,col_indexer] = value instead\n",
      "\n",
      "See the caveats in the documentation: https://pandas.pydata.org/pandas-docs/stable/user_guide/indexing.html#returning-a-view-versus-a-copy\n",
      "  elus[\"TIME\"] = 1\n"
     ]
    },
    {
     "name": "stdout",
     "output_type": "stream",
     "text": [
      "AUC-ROC rf: 0.8534621578099838\n",
      "AUC-ROC gradient: 0.8725845410628019\n"
     ]
    }
   ],
   "source": [
    "def main(file):\n",
    "    # Step 1: Load data\n",
    "    data = load_data(file)\n",
    "\n",
    "    # Step 2: important features\n",
    "    X = data.drop(columns=['death'])\n",
    "    y = data['death']\n",
    "    important_features, explained_variance_ratio, pca, loading_df = identify_important_features(X)\n",
    "\n",
    "    X_train, X_test, y_train, y_test = train_test_split(important_features, y, test_size=0.2, random_state=25)\n",
    "#     rf_model = train_rf_model(X_train, y_train, grid_search=True)\n",
    "    rf_model = train_rf_model(X_train, y_train)\n",
    "#     gradient_model = train_gradient_model(X_train, y_train, grid_search=True)\n",
    "    gradient_model = train_gradient_model(X_train, y_train)\n",
    "\n",
    "    # Step 4: Evauation\n",
    "    auc_roc = evaluate_model(rf_model, X_test, y_test)\n",
    "    print(f'AUC-ROC rf: {auc_roc}')\n",
    "    \n",
    "    auc_roc = evaluate_model(gradient_model, X_test, y_test)\n",
    "    print(f'AUC-ROC gradient: {auc_roc}')\n",
    "\n",
    "    # Tagstada, mida vajalikuks peab (mudel ise, tähtsad tunnused jne)\n",
    "    return rf_model, gradient_model, loading_df, data, important_features, X_train, X_test, y_train, y_test\n",
    "\n",
    "# Kasutamine - file asendada kasutatava csv failiga, mis 1-1le samas formaadis csv failidega, mis meile saadeti\n",
    "file = \"synthetic_data_lung_cancer.csv\" #synthetic_data_lung_cancer.csv, synthetic_data_pca.csv,jne...\n",
    "rf_model, gradient_model, loading_df, pivot_table, important_features, X_train, X_test, y_train, y_test = main(file)"
   ]
  },
  {
   "cell_type": "markdown",
   "id": "ebea9bbc",
   "metadata": {},
   "source": [
    "## Mudelite AUC-ROC skoor valideerimisandmestiku põhjal"
   ]
  },
  {
   "cell_type": "code",
   "execution_count": 28,
   "id": "608ebb29",
   "metadata": {},
   "outputs": [
    {
     "name": "stderr",
     "output_type": "stream",
     "text": [
      "/tmp/ipykernel_41762/2053188126.py:11: SettingWithCopyWarning: \n",
      "A value is trying to be set on a copy of a slice from a DataFrame.\n",
      "Try using .loc[row_indexer,col_indexer] = value instead\n",
      "\n",
      "See the caveats in the documentation: https://pandas.pydata.org/pandas-docs/stable/user_guide/indexing.html#returning-a-view-versus-a-copy\n",
      "  surnud[\"TIME\"] = 1 # Muudame aja väärtuse 1-ks, ehk esialgsetes andmetes \"DEFINITION_ID\" = TIME, nüüd selle asemel\n",
      "/tmp/ipykernel_41762/2053188126.py:14: SettingWithCopyWarning: \n",
      "A value is trying to be set on a copy of a slice from a DataFrame.\n",
      "Try using .loc[row_indexer,col_indexer] = value instead\n",
      "\n",
      "See the caveats in the documentation: https://pandas.pydata.org/pandas-docs/stable/user_guide/indexing.html#returning-a-view-versus-a-copy\n",
      "  elus[\"TIME\"] = 1\n"
     ]
    },
    {
     "name": "stdout",
     "output_type": "stream",
     "text": [
      "ROC-AUC rf on validation data: 0.8436961165298402\n",
      "ROC-AUC gradient on validation data: 0.848264148029956\n"
     ]
    }
   ],
   "source": [
    "file2=\"synthetic_data_pca.csv\"\n",
    "data2 = load_data(file2)\n",
    "X = data2.drop(\"death\", axis = 1)\n",
    "y = data2[\"death\"]\n",
    "\n",
    "important_features, explained_variance_ratio, pca, loading_df_validation = identify_important_features(X, save_loadings=True)\n",
    "    \n",
    "evaluate_rf = evaluate_model(rf_model, important_features, y) \n",
    "print(f\"ROC-AUC rf on validation data: {evaluate_rf}\")\n",
    "\n",
    "evaluate_gradient = evaluate_model(gradient_model, important_features, y) \n",
    "print(f\"ROC-AUC gradient on validation data: {evaluate_gradient}\")"
   ]
  },
  {
   "cell_type": "markdown",
   "id": "e88167cc",
   "metadata": {},
   "source": [
    "## Kõige suurema varieeruvusega PCA poolt kasutatud tunnuste kaalud"
   ]
  },
  {
   "cell_type": "code",
   "execution_count": 30,
   "id": "a62728c8",
   "metadata": {},
   "outputs": [
    {
     "data": {
      "text/html": [
       "<div>\n",
       "<style scoped>\n",
       "    .dataframe tbody tr th:only-of-type {\n",
       "        vertical-align: middle;\n",
       "    }\n",
       "\n",
       "    .dataframe tbody tr th {\n",
       "        vertical-align: top;\n",
       "    }\n",
       "\n",
       "    .dataframe thead th {\n",
       "        text-align: right;\n",
       "    }\n",
       "</style>\n",
       "<table border=\"1\" class=\"dataframe\">\n",
       "  <thead>\n",
       "    <tr style=\"text-align: right;\">\n",
       "      <th></th>\n",
       "      <th>Feature</th>\n",
       "      <th>Loading_PC1</th>\n",
       "      <th>Absolute_Loading_PC1</th>\n",
       "    </tr>\n",
       "  </thead>\n",
       "  <tbody>\n",
       "    <tr>\n",
       "      <th>3286</th>\n",
       "      <td>measurement_561</td>\n",
       "      <td>0.031397</td>\n",
       "      <td>0.031397</td>\n",
       "    </tr>\n",
       "    <tr>\n",
       "      <th>3762</th>\n",
       "      <td>measurement_990</td>\n",
       "      <td>0.030929</td>\n",
       "      <td>0.030929</td>\n",
       "    </tr>\n",
       "    <tr>\n",
       "      <th>3047</th>\n",
       "      <td>measurement_346</td>\n",
       "      <td>0.030577</td>\n",
       "      <td>0.030577</td>\n",
       "    </tr>\n",
       "    <tr>\n",
       "      <th>2638</th>\n",
       "      <td>measurement_1161</td>\n",
       "      <td>0.030404</td>\n",
       "      <td>0.030404</td>\n",
       "    </tr>\n",
       "    <tr>\n",
       "      <th>3422</th>\n",
       "      <td>measurement_684</td>\n",
       "      <td>0.030133</td>\n",
       "      <td>0.030133</td>\n",
       "    </tr>\n",
       "    <tr>\n",
       "      <th>...</th>\n",
       "      <td>...</td>\n",
       "      <td>...</td>\n",
       "      <td>...</td>\n",
       "    </tr>\n",
       "    <tr>\n",
       "      <th>183</th>\n",
       "      <td>condition_1163</td>\n",
       "      <td>0.001292</td>\n",
       "      <td>0.001292</td>\n",
       "    </tr>\n",
       "    <tr>\n",
       "      <th>1211</th>\n",
       "      <td>condition_2089</td>\n",
       "      <td>0.001037</td>\n",
       "      <td>0.001037</td>\n",
       "    </tr>\n",
       "    <tr>\n",
       "      <th>992</th>\n",
       "      <td>condition_1892</td>\n",
       "      <td>0.000871</td>\n",
       "      <td>0.000871</td>\n",
       "    </tr>\n",
       "    <tr>\n",
       "      <th>1818</th>\n",
       "      <td>condition_755</td>\n",
       "      <td>0.000766</td>\n",
       "      <td>0.000766</td>\n",
       "    </tr>\n",
       "    <tr>\n",
       "      <th>585</th>\n",
       "      <td>condition_1525</td>\n",
       "      <td>0.000258</td>\n",
       "      <td>0.000258</td>\n",
       "    </tr>\n",
       "  </tbody>\n",
       "</table>\n",
       "<p>4622 rows × 3 columns</p>\n",
       "</div>"
      ],
      "text/plain": [
       "               Feature  Loading_PC1  Absolute_Loading_PC1\n",
       "3286   measurement_561     0.031397              0.031397\n",
       "3762   measurement_990     0.030929              0.030929\n",
       "3047   measurement_346     0.030577              0.030577\n",
       "2638  measurement_1161     0.030404              0.030404\n",
       "3422   measurement_684     0.030133              0.030133\n",
       "...                ...          ...                   ...\n",
       "183     condition_1163     0.001292              0.001292\n",
       "1211    condition_2089     0.001037              0.001037\n",
       "992     condition_1892     0.000871              0.000871\n",
       "1818     condition_755     0.000766              0.000766\n",
       "585     condition_1525     0.000258              0.000258\n",
       "\n",
       "[4622 rows x 3 columns]"
      ]
     },
     "execution_count": 30,
     "metadata": {},
     "output_type": "execute_result"
    }
   ],
   "source": [
    "loading_df_validation"
   ]
  },
  {
   "cell_type": "code",
   "execution_count": 31,
   "id": "678f3ddf",
   "metadata": {},
   "outputs": [
    {
     "data": {
      "text/html": [
       "<div>\n",
       "<style scoped>\n",
       "    .dataframe tbody tr th:only-of-type {\n",
       "        vertical-align: middle;\n",
       "    }\n",
       "\n",
       "    .dataframe tbody tr th {\n",
       "        vertical-align: top;\n",
       "    }\n",
       "\n",
       "    .dataframe thead th {\n",
       "        text-align: right;\n",
       "    }\n",
       "</style>\n",
       "<table border=\"1\" class=\"dataframe\">\n",
       "  <thead>\n",
       "    <tr style=\"text-align: right;\">\n",
       "      <th></th>\n",
       "      <th>Feature</th>\n",
       "      <th>Loading_PC1</th>\n",
       "      <th>Absolute_Loading_PC1</th>\n",
       "    </tr>\n",
       "  </thead>\n",
       "  <tbody>\n",
       "    <tr>\n",
       "      <th>3747</th>\n",
       "      <td>measurement_637</td>\n",
       "      <td>0.029168</td>\n",
       "      <td>0.029168</td>\n",
       "    </tr>\n",
       "    <tr>\n",
       "      <th>4266</th>\n",
       "      <td>observation_204</td>\n",
       "      <td>0.028583</td>\n",
       "      <td>0.028583</td>\n",
       "    </tr>\n",
       "    <tr>\n",
       "      <th>4288</th>\n",
       "      <td>observation_224</td>\n",
       "      <td>0.028194</td>\n",
       "      <td>0.028194</td>\n",
       "    </tr>\n",
       "    <tr>\n",
       "      <th>3509</th>\n",
       "      <td>measurement_422</td>\n",
       "      <td>0.028162</td>\n",
       "      <td>0.028162</td>\n",
       "    </tr>\n",
       "    <tr>\n",
       "      <th>3065</th>\n",
       "      <td>measurement_1221</td>\n",
       "      <td>0.028010</td>\n",
       "      <td>0.028010</td>\n",
       "    </tr>\n",
       "    <tr>\n",
       "      <th>...</th>\n",
       "      <td>...</td>\n",
       "      <td>...</td>\n",
       "      <td>...</td>\n",
       "    </tr>\n",
       "    <tr>\n",
       "      <th>1292</th>\n",
       "      <td>condition_2161</td>\n",
       "      <td>0.001545</td>\n",
       "      <td>0.001545</td>\n",
       "    </tr>\n",
       "    <tr>\n",
       "      <th>1550</th>\n",
       "      <td>condition_2394</td>\n",
       "      <td>0.001500</td>\n",
       "      <td>0.001500</td>\n",
       "    </tr>\n",
       "    <tr>\n",
       "      <th>835</th>\n",
       "      <td>condition_1750</td>\n",
       "      <td>0.001423</td>\n",
       "      <td>0.001423</td>\n",
       "    </tr>\n",
       "    <tr>\n",
       "      <th>1878</th>\n",
       "      <td>condition_53</td>\n",
       "      <td>0.001403</td>\n",
       "      <td>0.001403</td>\n",
       "    </tr>\n",
       "    <tr>\n",
       "      <th>1558</th>\n",
       "      <td>condition_241</td>\n",
       "      <td>0.001230</td>\n",
       "      <td>0.001230</td>\n",
       "    </tr>\n",
       "  </tbody>\n",
       "</table>\n",
       "<p>4863 rows × 3 columns</p>\n",
       "</div>"
      ],
      "text/plain": [
       "               Feature  Loading_PC1  Absolute_Loading_PC1\n",
       "3747   measurement_637     0.029168              0.029168\n",
       "4266   observation_204     0.028583              0.028583\n",
       "4288   observation_224     0.028194              0.028194\n",
       "3509   measurement_422     0.028162              0.028162\n",
       "3065  measurement_1221     0.028010              0.028010\n",
       "...                ...          ...                   ...\n",
       "1292    condition_2161     0.001545              0.001545\n",
       "1550    condition_2394     0.001500              0.001500\n",
       "835     condition_1750     0.001423              0.001423\n",
       "1878      condition_53     0.001403              0.001403\n",
       "1558     condition_241     0.001230              0.001230\n",
       "\n",
       "[4863 rows x 3 columns]"
      ]
     },
     "execution_count": 31,
     "metadata": {},
     "output_type": "execute_result"
    }
   ],
   "source": [
    "loading_df"
   ]
  },
  {
   "cell_type": "markdown",
   "id": "5806e30a",
   "metadata": {},
   "source": [
    "## PCAde varieeruvused"
   ]
  },
  {
   "cell_type": "code",
   "execution_count": 32,
   "id": "2fb0c6e3",
   "metadata": {},
   "outputs": [
    {
     "data": {
      "text/plain": [
       "array([0.14549493, 0.05532097, 0.05112105, 0.03989248, 0.03901181,\n",
       "       0.02646274, 0.02590439, 0.02476409, 0.02135614, 0.01991345,\n",
       "       0.01671356, 0.01602964, 0.01506696, 0.01324156, 0.01201901,\n",
       "       0.01155921, 0.01073202, 0.00957551, 0.00796088, 0.00754529])"
      ]
     },
     "execution_count": 32,
     "metadata": {},
     "output_type": "execute_result"
    }
   ],
   "source": [
    "explained_variance_ratio"
   ]
  },
  {
   "cell_type": "markdown",
   "id": "30babc98",
   "metadata": {},
   "source": [
    "## Mudelite poolt kasutatud PCAde kaalud"
   ]
  },
  {
   "cell_type": "code",
   "execution_count": 33,
   "id": "33ad7005",
   "metadata": {},
   "outputs": [
    {
     "data": {
      "text/plain": [
       "array([0.13456211, 0.05047798, 0.10722995, 0.05685285, 0.03806474,\n",
       "       0.03476451, 0.031982  , 0.03197815, 0.0414045 , 0.0329423 ,\n",
       "       0.07081092, 0.05790852, 0.04741205, 0.0360999 , 0.0312234 ,\n",
       "       0.03441241, 0.04044729, 0.04269617, 0.0426258 , 0.03610446])"
      ]
     },
     "execution_count": 33,
     "metadata": {},
     "output_type": "execute_result"
    }
   ],
   "source": [
    "rf_model.feature_importances_"
   ]
  },
  {
   "cell_type": "code",
   "execution_count": 37,
   "id": "1c513029",
   "metadata": {},
   "outputs": [
    {
     "data": {
      "text/plain": [
       "array([0.3329323 , 0.03261782, 0.16027045, 0.01473262, 0.03730145,\n",
       "       0.01169127, 0.01223958, 0.00618075, 0.02572665, 0.01790952,\n",
       "       0.07127471, 0.0699224 , 0.05095522, 0.01500434, 0.01272587,\n",
       "       0.02241741, 0.02582543, 0.04920273, 0.02668819, 0.00438129])"
      ]
     },
     "execution_count": 37,
     "metadata": {},
     "output_type": "execute_result"
    }
   ],
   "source": [
    "gradient_model.feature_importances_"
   ]
  },
  {
   "cell_type": "code",
   "execution_count": null,
   "id": "5fe96a0b",
   "metadata": {},
   "outputs": [],
   "source": []
  }
 ],
 "metadata": {
  "kernelspec": {
   "display_name": "Python 3 (ipykernel)",
   "language": "python",
   "name": "python3"
  },
  "language_info": {
   "codemirror_mode": {
    "name": "ipython",
    "version": 3
   },
   "file_extension": ".py",
   "mimetype": "text/x-python",
   "name": "python",
   "nbconvert_exporter": "python",
   "pygments_lexer": "ipython3",
   "version": "3.9.18"
  }
 },
 "nbformat": 4,
 "nbformat_minor": 5
}
